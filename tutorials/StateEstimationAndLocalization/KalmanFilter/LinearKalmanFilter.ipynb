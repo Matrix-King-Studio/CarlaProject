{
 "cells": [
  {
   "cell_type": "code",
   "execution_count": null,
   "metadata": {
    "collapsed": false
   },
   "outputs": [],
   "source": [
    "import math\n",
    "import weakref"
   ]
  },
  {
   "cell_type": "code",
   "execution_count": null,
   "metadata": {
    "collapsed": false
   },
   "outputs": [],
   "source": [
    "import carla"
   ]
  },
  {
   "cell_type": "code",
   "execution_count": null,
   "metadata": {},
   "outputs": [],
   "source": [
    "NOISE_STDDEV = 5e-5\n",
    "NOISE_BIAS = 1e-5"
   ]
  },
  {
   "cell_type": "code",
   "execution_count": null,
   "metadata": {
    "collapsed": true
   },
   "outputs": [],
   "source": [
    "class GnssSensor:\n",
    "    def __init__(\n",
    "        self,\n",
    "        parent_actor,\n",
    "        sensor_tick=0.1,\n",
    "        noise_alt_bias=None,\n",
    "        noise_alt_stddev=None,\n",
    "        noise_lat_bias=None,\n",
    "        noise_lat_stddev=None,\n",
    "        noise_lon_bias=None,\n",
    "        noise_lon_stddev=None\n",
    "    ):\n",
    "        self.sensor = None\n",
    "        self._parent = parent_actor\n",
    "        self.lat = 0.0\n",
    "        self.lon = 0.0\n",
    "        world = self._parent.get_world()\n",
    "        bp = world.get_blueprint_library().find(\"sensor.other.gnss\")\n",
    "        if sensor_tick: # 传感器捕获频率\n",
    "            bp.set_attribute(\"sensor_tick\", sensor_tick)\n",
    "        if noise_alt_bias:  # 海拔噪声模型中的均值\n",
    "            bp.set_attribute(\"noise_alt_bias\", noise_alt_bias)\n",
    "        if noise_alt_stddev:    # 海拔噪声模型中的标准偏差\n",
    "            bp.set_attribute(\"noise_alt_stddev\", noise_alt_stddev)\n",
    "        if noise_lat_bias:  # 纬度噪声模型中的均值\n",
    "            bp.set_attribute(\"noise_lat_bias\", noise_lat_bias)\n",
    "        if noise_lat_stddev:    # 纬度噪声模型中的标准偏差\n",
    "            bp.set_attribute(\"noise_lat_stddev\", noise_lat_stddev)\n",
    "        if noise_lon_bias:  # 经度噪声模型中的均值\n",
    "            bp.set_attribute(\"noise_lon_bias\", noise_lon_bias)\n",
    "        if noise_lon_stddev:    # 经度噪声模型中的标准偏差\n",
    "            bp.set_attribute(\"noise_lon_stddev\", noise_lon_stddev)\n",
    "        self.sensor = world.spawn_actor(blueprint=bp, transform=carla.Transform(carla.Location(x=1.0, z=2.8)), attach_to=self._parent)\n",
    "        weak_self = weakref.ref(self)\n",
    "        self.sensor.listen(lambda event: GnssSensor._gnss_callback(weak_self, event))\n",
    "\n",
    "    @staticmethod\n",
    "    def _gnss_callback(weak_self, event):\n",
    "        self = weak_self()\n",
    "        if not self:\n",
    "            return\n",
    "        self.lat = event.latitude\n",
    "        self.lon = event.longitude"
   ]
  },
  {
   "cell_type": "code",
   "execution_count": null,
   "metadata": {
    "collapsed": false
   },
   "outputs": [],
   "source": [
    "class IMUSensor:\n",
    "    def __init__(\n",
    "        self,\n",
    "        parent_actor,\n",
    "        sensor_tick=0.01,\n",
    "        noise_accel_stddev_x=None,\n",
    "        noise_accel_stddev_y=None,\n",
    "        noise_accel_stddev_z=None,\n",
    "        noise_gyro_bias_x=None,\n",
    "        noise_gyro_bias_y=None,\n",
    "        noise_gyro_bias_z=None,\n",
    "        noise_gyro_stddev_x=None,\n",
    "        noise_gyro_stddev_y=None,\n",
    "        noise_gyro_stddev_z=None\n",
    "    ):\n",
    "        self.sensor = None\n",
    "        self._parent = parent_actor\n",
    "        self.accelerometer = (0.0, 0.0, 0.0)\n",
    "        self.gyroscope = (0.0, 0.0, 0.0)\n",
    "        self.compass = 0.0\n",
    "        world = self._parent.get_world()\n",
    "        bp = world.get_blueprint_library().find(\"sensor.other.imu\")\n",
    "        if sensor_tick: # 传感器捕获频率\n",
    "            bp.set_attribute(\"sensor_tick\", sensor_tick)\n",
    "        if noise_accel_stddev_x:    # 加速度噪声模型中的标准差（X轴）\n",
    "            bp.set_attribute(\"noise_accel_stddev_x\", noise_accel_stddev_x)\n",
    "        if noise_accel_stddev_y:    # 加速度噪声模型中的标准差（Y轴）\n",
    "            bp.set_attribute(\"noise_accel_stddev_y\", noise_accel_stddev_y)\n",
    "        if noise_accel_stddev_z:    # 加速度噪声模型中的标准差（Z轴）\n",
    "            bp.set_attribute(\"noise_accel_stddev_z\", noise_accel_stddev_z)\n",
    "        if noise_gyro_bias_x:   # 陀螺仪噪声模型中的均值（X轴）\n",
    "            bp.set_attribute(\"noise_gyro_bias_x\", noise_gyro_bias_x)\n",
    "        if noise_gyro_bias_y:   # 陀螺仪噪声模型中的均值（Y轴）\n",
    "            bp.set_attribute(\"noise_gyro_bias_y\", noise_gyro_bias_y)\n",
    "        if noise_gyro_bias_z:   # 陀螺仪噪声模型中的均值（Z轴）\n",
    "            bp.set_attribute(\"noise_gyro_bias_z\", noise_gyro_bias_z)\n",
    "        if noise_gyro_stddev_x: # 陀螺仪噪声模型中的标准差（X轴）\n",
    "            bp.set_attribute(\"noise_gyro_stddev_x\", noise_gyro_stddev_x)\n",
    "        if noise_gyro_stddev_y: # 陀螺仪噪声模型中的标准差（Y轴）\n",
    "            bp.set_attribute(\"noise_gyro_stddev_y\", noise_gyro_stddev_y)\n",
    "        if noise_gyro_stddev_z: # 陀螺仪噪声模型中的标准差（Z轴）\n",
    "            bp.set_attribute(\"noise_gyro_stddev_z\", noise_gyro_stddev_z)\n",
    "        self.sensor = world.spawn_actor(blueprint=bp, transform=carla.Transform(), attach_to=self._parent)\n",
    "        weak_self = weakref.ref(self)\n",
    "        self.sensor.listen(lambda sensor_data: IMUSensor._imu_callback(weak_self, sensor_data))\n",
    "\n",
    "    @staticmethod\n",
    "    def _imu_callback(weak_self, sensor_data):\n",
    "        self = weak_self()\n",
    "        if not self:\n",
    "            return\n",
    "        limits = (-99.9, 99.9)\n",
    "        self.accelerometer = (\n",
    "            max(limits[0], min(limits[1], sensor_data.accelerometer.x)),\n",
    "            max(limits[0], min(limits[1], sensor_data.accelerometer.y)),\n",
    "            max(limits[0], min(limits[1], sensor_data.accelerometer.z)))\n",
    "        self.gyroscope = (\n",
    "            max(limits[0], min(limits[1], math.degrees(sensor_data.gyroscope.x))),\n",
    "            max(limits[0], min(limits[1], math.degrees(sensor_data.gyroscope.y))),\n",
    "            max(limits[0], min(limits[1], math.degrees(sensor_data.gyroscope.z))))\n",
    "        self.compass = math.degrees(sensor_data.compass)"
   ]
  },
  {
   "cell_type": "code",
   "execution_count": null,
   "metadata": {},
   "outputs": [],
   "source": [
    "class Vehicle:\n",
    "    def __init__(self, world, client, spawn_point):\n",
    "        self.world = world\n",
    "        self.client = client"
   ]
  }
 ],
 "metadata": {
  "kernelspec": {
   "display_name": "Python 3",
   "language": "python",
   "name": "python3"
  },
  "language_info": {
   "codemirror_mode": {
    "name": "ipython",
    "version": 2
   },
   "file_extension": ".py",
   "mimetype": "text/x-python",
   "name": "python",
   "nbconvert_exporter": "python",
   "pygments_lexer": "ipython2",
   "version": "2.7.6"
  }
 },
 "nbformat": 4,
 "nbformat_minor": 0
}
