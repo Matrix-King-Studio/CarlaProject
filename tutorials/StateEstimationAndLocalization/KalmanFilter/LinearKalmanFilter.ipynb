{
 "cells": [
  {
   "cell_type": "code",
   "execution_count": null,
   "metadata": {
    "collapsed": false,
    "pycharm": {
     "is_executing": true
    }
   },
   "outputs": [],
   "source": [
    "import math\n",
    "import random\n",
    "import sys\n",
    "import weakref\n",
    "import argparse"
   ]
  },
  {
   "cell_type": "code",
   "execution_count": null,
   "metadata": {
    "collapsed": false
   },
   "outputs": [],
   "source": [
    "import carla"
   ]
  },
  {
   "cell_type": "code",
   "execution_count": null,
   "metadata": {},
   "outputs": [],
   "source": [
    "NOISE_STDDEV = 5e-5\n",
    "NOISE_BIAS = 1e-5"
   ]
  },
  {
   "cell_type": "code",
   "execution_count": null,
   "metadata": {
    "collapsed": true
   },
   "outputs": [],
   "source": [
    "class GnssSensor:\n",
    "    def __init__(\n",
    "        self,\n",
    "        parent_actor,\n",
    "        transform,\n",
    "        sensor_tick=0.1,\n",
    "        noise_alt_bias=None,\n",
    "        noise_alt_stddev=None,\n",
    "        noise_lat_bias=None,\n",
    "        noise_lat_stddev=None,\n",
    "        noise_lon_bias=None,\n",
    "        noise_lon_stddev=None\n",
    "    ):\n",
    "        self._parent = parent_actor\n",
    "        self.lat = 0.0\n",
    "        self.lon = 0.0\n",
    "        world = self._parent.get_world()\n",
    "        bp = world.get_blueprint_library().find(\"sensor.other.gnss\")\n",
    "        if sensor_tick: # 传感器捕获频率\n",
    "            bp.set_attribute(\"sensor_tick\", sensor_tick)\n",
    "        if noise_alt_bias:  # 海拔噪声模型中的均值\n",
    "            bp.set_attribute(\"noise_alt_bias\", noise_alt_bias)\n",
    "        if noise_alt_stddev:    # 海拔噪声模型中的标准偏差\n",
    "            bp.set_attribute(\"noise_alt_stddev\", noise_alt_stddev)\n",
    "        if noise_lat_bias:  # 纬度噪声模型中的均值\n",
    "            bp.set_attribute(\"noise_lat_bias\", noise_lat_bias)\n",
    "        if noise_lat_stddev:    # 纬度噪声模型中的标准偏差\n",
    "            bp.set_attribute(\"noise_lat_stddev\", noise_lat_stddev)\n",
    "        if noise_lon_bias:  # 经度噪声模型中的均值\n",
    "            bp.set_attribute(\"noise_lon_bias\", noise_lon_bias)\n",
    "        if noise_lon_stddev:    # 经度噪声模型中的标准偏差\n",
    "            bp.set_attribute(\"noise_lon_stddev\", noise_lon_stddev)\n",
    "        self.sensor = world.spawn_actor(blueprint=bp, transform=transform, attach_to=self._parent)\n",
    "        weak_self = weakref.ref(self)\n",
    "        self.sensor.listen(lambda event: GnssSensor._gnss_callback(weak_self, event))\n",
    "\n",
    "    @staticmethod\n",
    "    def _gnss_callback(weak_self, event):\n",
    "        self = weak_self()\n",
    "        if not self:\n",
    "            return\n",
    "        self.lat = event.latitude\n",
    "        self.lon = event.longitude"
   ]
  },
  {
   "cell_type": "code",
   "execution_count": null,
   "metadata": {
    "collapsed": false
   },
   "outputs": [],
   "source": [
    "class IMUSensor:\n",
    "    def __init__(\n",
    "        self,\n",
    "        parent_actor,\n",
    "        transform,\n",
    "        sensor_tick=0.01,\n",
    "        noise_accel_stddev_x=None,\n",
    "        noise_accel_stddev_y=None,\n",
    "        noise_accel_stddev_z=None,\n",
    "        noise_gyro_bias_x=None,\n",
    "        noise_gyro_bias_y=None,\n",
    "        noise_gyro_bias_z=None,\n",
    "        noise_gyro_stddev_x=None,\n",
    "        noise_gyro_stddev_y=None,\n",
    "        noise_gyro_stddev_z=None\n",
    "    ):\n",
    "        self._parent = parent_actor\n",
    "        self.accelerometer = (0.0, 0.0, 0.0)\n",
    "        self.gyroscope = (0.0, 0.0, 0.0)\n",
    "        self.compass = 0.0\n",
    "        world = self._parent.get_world()\n",
    "        bp = world.get_blueprint_library().find(\"sensor.other.imu\")\n",
    "        if sensor_tick: # 传感器捕获频率\n",
    "            bp.set_attribute(\"sensor_tick\", sensor_tick)\n",
    "        if noise_accel_stddev_x:    # 加速度噪声模型中的标准差（X轴）\n",
    "            bp.set_attribute(\"noise_accel_stddev_x\", noise_accel_stddev_x)\n",
    "        if noise_accel_stddev_y:    # 加速度噪声模型中的标准差（Y轴）\n",
    "            bp.set_attribute(\"noise_accel_stddev_y\", noise_accel_stddev_y)\n",
    "        if noise_accel_stddev_z:    # 加速度噪声模型中的标准差（Z轴）\n",
    "            bp.set_attribute(\"noise_accel_stddev_z\", noise_accel_stddev_z)\n",
    "        if noise_gyro_bias_x:   # 陀螺仪噪声模型中的均值（X轴）\n",
    "            bp.set_attribute(\"noise_gyro_bias_x\", noise_gyro_bias_x)\n",
    "        if noise_gyro_bias_y:   # 陀螺仪噪声模型中的均值（Y轴）\n",
    "            bp.set_attribute(\"noise_gyro_bias_y\", noise_gyro_bias_y)\n",
    "        if noise_gyro_bias_z:   # 陀螺仪噪声模型中的均值（Z轴）\n",
    "            bp.set_attribute(\"noise_gyro_bias_z\", noise_gyro_bias_z)\n",
    "        if noise_gyro_stddev_x: # 陀螺仪噪声模型中的标准差（X轴）\n",
    "            bp.set_attribute(\"noise_gyro_stddev_x\", noise_gyro_stddev_x)\n",
    "        if noise_gyro_stddev_y: # 陀螺仪噪声模型中的标准差（Y轴）\n",
    "            bp.set_attribute(\"noise_gyro_stddev_y\", noise_gyro_stddev_y)\n",
    "        if noise_gyro_stddev_z: # 陀螺仪噪声模型中的标准差（Z轴）\n",
    "            bp.set_attribute(\"noise_gyro_stddev_z\", noise_gyro_stddev_z)\n",
    "        self.sensor = world.spawn_actor(blueprint=bp, transform=transform, attach_to=self._parent)\n",
    "        weak_self = weakref.ref(self)\n",
    "        self.sensor.listen(lambda sensor_data: IMUSensor._imu_callback(weak_self, sensor_data))\n",
    "\n",
    "    @staticmethod\n",
    "    def _imu_callback(weak_self, sensor_data):\n",
    "        self = weak_self()\n",
    "        if not self:\n",
    "            return\n",
    "        limits = (-99.9, 99.9)\n",
    "        self.accelerometer = (\n",
    "            max(limits[0], min(limits[1], sensor_data.accelerometer.x)),\n",
    "            max(limits[0], min(limits[1], sensor_data.accelerometer.y)),\n",
    "            max(limits[0], min(limits[1], sensor_data.accelerometer.z)))\n",
    "        self.gyroscope = (\n",
    "            max(limits[0], min(limits[1], math.degrees(sensor_data.gyroscope.x))),\n",
    "            max(limits[0], min(limits[1], math.degrees(sensor_data.gyroscope.y))),\n",
    "            max(limits[0], min(limits[1], math.degrees(sensor_data.gyroscope.z))))\n",
    "        self.compass = math.degrees(sensor_data.compass)"
   ]
  },
  {
   "cell_type": "code",
   "execution_count": null,
   "metadata": {},
   "outputs": [],
   "source": [
    "class Vehicle:\n",
    "    def __init__(self, world, spawn_point, args):\n",
    "        self.world = world\n",
    "        # 初始化车辆\n",
    "        bp_lib = world.get_blueprint_library()\n",
    "        vehicle_bp = bp_lib.filter(\"model3\")[0]\n",
    "        self.vehicle = world.spawn_actor(vehicle_bp, spawn_point)\n",
    "        self.vehicle.set_autopilot(args.autopilot)\n",
    "        # 添加 GNSS 和 IMU\n",
    "        self.gnss = GnssSensor(parent_actor=self.vehicle, transform=carla.Location(x=0, z=0))\n",
    "        self.imu = IMUSensor(parent_actor=self.vehicle, transform=carla.Location(x=0, z=0))\n",
    "        self.actor_list = [self.vehicle, self.gnss.sensor, self.imu.sensor]"
   ]
  },
  {
   "cell_type": "code",
   "execution_count": null,
   "outputs": [],
   "source": [
    "class World:\n",
    "    def __init__(self, carla_world, args):\n",
    "        self.world = carla_world\n",
    "        self.sync = args.sync\n",
    "        self.vehicle = None\n",
    "        try:\n",
    "            self.map = self.world.get_map()\n",
    "        except RuntimeError as error:\n",
    "            print(f\"RuntimeError: {error}\")\n",
    "            print(\"  The server could not send the OpenDRIVE (.xodr) file:\")\n",
    "            print(\"  Make sure it exists, has the same name of your town, and is correct.\")\n",
    "            sys.exit(1)\n",
    "        self.restart()\n",
    "\n",
    "    def restart(self):\n",
    "        while self.vehicle is None:\n",
    "            if not self.map.get_spawn_points():\n",
    "                print(\"There are no spawn points available in your map/town.\")\n",
    "                print(\"Please add some Vehicle Spawn Point to your UE4 scene.\")\n",
    "                sys.exit(1)\n",
    "            spawn_points = self.map.get_spawn_points()\n",
    "            spawn_point = random.choice(spawn_points) if spawn_points else carla.Transform()\n",
    "            self.vehicle = Vehicle(self.world, spawn_point, args)\n",
    "\n",
    "        if self.sync:\n",
    "            self.world.tick()\n",
    "        else:\n",
    "            self.world.wait_for_tick()"
   ],
   "metadata": {
    "collapsed": false
   }
  },
  {
   "cell_type": "code",
   "execution_count": null,
   "outputs": [],
   "source": [
    "def game_loop(args):\n",
    "    sim_world, world, client, original_settings = None, None, None, None\n",
    "\n",
    "    try:\n",
    "        # 客户端连接 Carla\n",
    "        client = carla.Client(args.host, args.port)\n",
    "        client.set_timeout(20.0)\n",
    "        # 初始化 World\n",
    "        sim_world = client.get_world()\n",
    "        if args.sync:\n",
    "            original_settings = sim_world.get_settings()\n",
    "            settings = sim_world.get_settings()\n",
    "            if not settings.synchronous_mode:\n",
    "                settings.synchronous_mode = True\n",
    "                settings.fixed_delta_seconds = 0.05\n",
    "            sim_world.apply_settings(settings)\n",
    "\n",
    "            traffic_manager = client.get_trafficmanager()\n",
    "            traffic_manager.set_synchronous_mode(True)\n",
    "        world = World(sim_world, args)\n",
    "        if args.sync:\n",
    "            sim_world.tick()\n",
    "        else:\n",
    "            sim_world.wait_for_tick()\n",
    "\n",
    "        while True:\n",
    "            if args.sync:\n",
    "                sim_world.tick()\n",
    "    finally:\n",
    "        if original_settings:\n",
    "            sim_world.apply_settings(original_settings)\n",
    "        if world and world.recording_enabled:\n",
    "            client.stop_recorder()\n",
    "        if world is not None:\n",
    "            world.destroy()"
   ],
   "metadata": {
    "collapsed": false
   }
  },
  {
   "cell_type": "code",
   "execution_count": null,
   "outputs": [],
   "source": [
    "def main():\n",
    "    arg_parser = argparse.ArgumentParser(description=\"CARLA Client\")\n",
    "    arg_parser.add_argument(\"--host\", default=\"127.0.0.1\", help=\"IP of the host server (default: 127.0.0.1)\")\n",
    "    arg_parser.add_argument(\"--port\", default=2000, type=int, help=\"TCP port to listen to (default: 2000)\")\n",
    "    arg_parser.add_argument(\"--sync\", action=\"store_true\", help=\"Activate synchronous mode execution\")\n",
    "    arg_parser.add_argument(\"--autopilot\", action=\"store_true\", help=\"enable autopilot\")\n",
    "    args = arg_parser.parse_args()\n",
    "    try:\n",
    "        game_loop(args)\n",
    "    except KeyboardInterrupt:\n",
    "        print(\"\\nCancelled by user. Bye!\")"
   ],
   "metadata": {
    "collapsed": false
   }
  }
 ],
 "metadata": {
  "kernelspec": {
   "display_name": "Python 3",
   "language": "python",
   "name": "python3"
  },
  "language_info": {
   "codemirror_mode": {
    "name": "ipython",
    "version": 2
   },
   "file_extension": ".py",
   "mimetype": "text/x-python",
   "name": "python",
   "nbconvert_exporter": "python",
   "pygments_lexer": "ipython2",
   "version": "2.7.6"
  }
 },
 "nbformat": 4,
 "nbformat_minor": 0
}
