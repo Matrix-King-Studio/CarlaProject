{
 "cells": [
  {
   "cell_type": "code",
   "execution_count": null,
   "outputs": [],
   "source": [
    "import math\n",
    "import weakref"
   ],
   "metadata": {
    "collapsed": false
   }
  },
  {
   "cell_type": "code",
   "execution_count": null,
   "outputs": [],
   "source": [
    "import carla"
   ],
   "metadata": {
    "collapsed": false
   }
  },
  {
   "cell_type": "code",
   "execution_count": null,
   "metadata": {
    "collapsed": true
   },
   "outputs": [],
   "source": [
    "class GnssSensor:\n",
    "    def __init__(self, parent_actor):\n",
    "        self.sensor = None\n",
    "        self._parent = parent_actor\n",
    "        self.lat = 0.0\n",
    "        self.lon = 0.0\n",
    "        world = self._parent.get_world()\n",
    "        bp = world.get_blueprint_library().find(\"sensor.other.gnss\")\n",
    "        self.sensor = world.spawn_actor(bp, carla.Transform(carla.Location(x=1.0, z=2.8)), attach_to=self._parent)\n",
    "        weak_self = weakref.ref(self)\n",
    "        self.sensor.listen(lambda event: GnssSensor._gnss_callback(weak_self, event))\n",
    "\n",
    "    @staticmethod\n",
    "    def _gnss_callback(weak_self, event):\n",
    "        self = weak_self()\n",
    "        if not self:\n",
    "            return\n",
    "        self.lat = event.latitude\n",
    "        self.lon = event.longitude"
   ]
  },
  {
   "cell_type": "code",
   "execution_count": null,
   "outputs": [],
   "source": [
    "class IMUSensor:\n",
    "    def __init__(self, parent_actor):\n",
    "        self.sensor = None\n",
    "        self._parent = parent_actor\n",
    "        self.accelerometer = (0.0, 0.0, 0.0)\n",
    "        self.gyroscope = (0.0, 0.0, 0.0)\n",
    "        self.compass = 0.0\n",
    "        world = self._parent.get_world()\n",
    "        bp = world.get_blueprint_library().find(\"sensor.other.imu\")\n",
    "        self.sensor = world.spawn_actor(bp, carla.Transform(), attach_to=self._parent)\n",
    "        weak_self = weakref.ref(self)\n",
    "        self.sensor.listen(lambda sensor_data: IMUSensor._imu_callback(weak_self, sensor_data))\n",
    "\n",
    "    @staticmethod\n",
    "    def _imu_callback(weak_self, sensor_data):\n",
    "        self = weak_self()\n",
    "        if not self:\n",
    "            return\n",
    "        limits = (-99.9, 99.9)\n",
    "        self.accelerometer = (\n",
    "            max(limits[0], min(limits[1], sensor_data.accelerometer.x)),\n",
    "            max(limits[0], min(limits[1], sensor_data.accelerometer.y)),\n",
    "            max(limits[0], min(limits[1], sensor_data.accelerometer.z)))\n",
    "        self.gyroscope = (\n",
    "            max(limits[0], min(limits[1], math.degrees(sensor_data.gyroscope.x))),\n",
    "            max(limits[0], min(limits[1], math.degrees(sensor_data.gyroscope.y))),\n",
    "            max(limits[0], min(limits[1], math.degrees(sensor_data.gyroscope.z))))\n",
    "        self.compass = math.degrees(sensor_data.compass)"
   ],
   "metadata": {
    "collapsed": false
   }
  }
 ],
 "metadata": {
  "kernelspec": {
   "display_name": "Python 3",
   "language": "python",
   "name": "python3"
  },
  "language_info": {
   "codemirror_mode": {
    "name": "ipython",
    "version": 2
   },
   "file_extension": ".py",
   "mimetype": "text/x-python",
   "name": "python",
   "nbconvert_exporter": "python",
   "pygments_lexer": "ipython2",
   "version": "2.7.6"
  }
 },
 "nbformat": 4,
 "nbformat_minor": 0
}
